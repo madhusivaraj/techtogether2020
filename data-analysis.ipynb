{
 "cells": [
  {
   "cell_type": "code",
   "execution_count": 6,
   "metadata": {},
   "outputs": [
    {
     "name": "stderr",
     "output_type": "stream",
     "text": [
      "[nltk_data] Downloading package punkt to /Users/madhu/nltk_data...\n",
      "[nltk_data]   Unzipping tokenizers/punkt.zip.\n"
     ]
    },
    {
     "data": {
      "text/plain": [
       "True"
      ]
     },
     "execution_count": 6,
     "metadata": {},
     "output_type": "execute_result"
    }
   ],
   "source": [
    "import pandas as pd\n",
    "import numpy as np\n",
    "import nltk\n",
    "from nltk.tokenize import sent_tokenize\n",
    "\n",
    "nltk.download('punkt')"
   ]
  },
  {
   "cell_type": "code",
   "execution_count": 16,
   "metadata": {},
   "outputs": [
    {
     "name": "stdout",
     "output_type": "stream",
     "text": [
      "so show us how you'd normally sell to a\n",
      "female client okay\n",
      "with pleasure time to learn a few new\n",
      "tricks old dog you got this Schrute\n",
      "you've just walked into her office and\n",
      "begin hello hello may I please speak to\n",
      "your boss no she is the boss I am hi I'm\n",
      "mr. Hannon how can I help you okay this\n",
      "isn't working for me\n",
      "because no one would ever believe that\n",
      "she would be a boss he's absolutely\n",
      "right I'm really struggling oh I'll be\n",
      "the buyer hello mr. Schrute nice to see\n",
      "you please have a seat I never sit down\n",
      "during sales meetings I want to appear\n",
      "aggressive and imposing I'm going to\n",
      "sell to you in 12 minutes\n",
      "    no actually she'd like to take her time\n",
      "discussing her needs I will tell her\n",
      "what her needs are and then fill them\n",
      "this is gonna work out best for you if\n",
      "you just relax and do nothing once I'm\n",
      "finished it's over okay let's stop here\n",
      "anyone have any thoughts I thought it\n",
      "went great I have written down a few\n",
      "questions one have you ever killed a\n",
      "woman how many women have you killed\n",
      "please tell will you not kill me okay\n",
      "when you're selling to women it is\n",
      "crucial that you listen Dwight also you\n",
      "want to respect their are you listening\n",
      "now yes okay well you have to show us\n",
      "that's impossible listening happens in\n",
      "the ear and in the brain I mean some\n",
      "organisms have external hairs that\n",
      "vibrates to indicate auditory\n",
      "stimulation but unfortunately our\n",
      "external hairs don't vibrate at all\n",
      "uh-huh uh-huh what are you doing a\n",
      "little smile and a nod shows that I hear\n",
      "you got it kind of Nellie why don't you\n",
      "tell Dwight what we were doing earlier\n",
      "today and Dwight you show us that you're\n",
      "listening well we were in the warehouse\n",
      "where we were discussing the mural that\n",
      "I've commissioned Pam to paint there we\n",
      "were talking about the color schemes and\n",
      "the major themes we want to hit children\n",
      "of the world coming together\n",
      "sing down trees to make paper but not in\n",
      "a child library way it's just up and\n",
      "down just a regular not like a person\n",
      "right I'm a person yes you're a person\n",
      "yeah we can do this all right\n",
      "and then we thought we I can't I just\n",
      "got a can't carry on with that face look\n",
      "I'm gonna get nightmares with that face\n",
      "I mean he looks like he is laboring over\n",
      "a stool having just eaten human flesh\n",
      "it's a bit extreme yeah I'm so I'm sorry\n",
      "but that is truth\n",
      "he's screw at the meetings in less than\n",
      "an hour all right God Dwight just ignore\n",
      "every instinct you have it's all garbage\n",
      "okay you're the woman I'm the salesman\n",
      "watch what I do and try to learn okay\n",
      "I'm a woman\n",
      "good mm-hmm miss Thomas so good to see\n",
      "you hello or are those your kids are so\n",
      "cute they could be models thank you I'm\n",
      "so proud of them I carried each one of\n",
      "them for nine months inside of my torso\n",
      "and then push them out of my vagina boo\n",
      "weird okay this is a lost cause he's\n",
      "hopeless ten years ago I didn't care if\n",
      "Dwight got married or died a beet\n",
      "farming bachelor but having kids makes\n",
      "you so soft\n",
      "\n",
      "\n",
      "\n",
      "\n"
     ]
    }
   ],
   "source": [
    "with open('office.txt', 'r') as myfile:\n",
    "    text = myfile.read()\n",
    "    print(text)"
   ]
  },
  {
   "cell_type": "code",
   "execution_count": 29,
   "metadata": {
    "scrolled": true
   },
   "outputs": [
    {
     "name": "stdout",
     "output_type": "stream",
     "text": [
      "['so', 'show', 'us', 'how', 'you', \"'d\", 'normally', 'sell', 'to', 'a', 'female', 'client', 'okay', 'with', 'pleasure', 'time', 'to', 'learn', 'a', 'few', 'new', 'tricks', 'old', 'dog', 'you', 'got', 'this', 'Schrute', 'you', \"'ve\", 'just', 'walked', 'into', 'her', 'office', 'and', 'begin', 'hello', 'hello', 'may', 'I', 'please', 'speak', 'to', 'your', 'boss', 'no', 'she', 'is', 'the', 'boss', 'I', 'am', 'hi', \"I'm\", 'mr.', 'Hannon', 'how', 'can', 'I', 'help', 'you', 'okay', 'this', 'is', \"n't\", 'working', 'for', 'me', 'because', 'no', 'one', 'would', 'ever', 'believe', 'that', 'she', 'would', 'be', 'a', 'boss', 'he', \"'s\", 'absolutely', 'right', 'I', \"'m\", 'really', 'struggling', 'oh', 'I', \"'ll\", 'be', 'the', 'buyer', 'hello', 'mr.', 'Schrute', 'nice', 'to', 'see', 'you', 'please', 'have', 'a', 'seat', 'I', 'never', 'sit', 'down', 'during', 'sales', 'meetings', 'I', 'want', 'to', 'appear', 'aggressive', 'and', 'imposing', 'I', \"'m\", 'going', 'to', 'sell', 'to', 'you', 'in', '12', 'minutes', 'no', 'actually', 'she', \"'d\", 'like', 'to', 'take', 'her', 'time', 'discussing', 'her', 'needs', 'I', 'will', 'tell', 'her', 'what', 'her', 'needs', 'are', 'and', 'then', 'fill', 'them', 'this', 'is', 'gon', 'na', 'work', 'out', 'best', 'for', 'you', 'if', 'you', 'just', 'relax', 'and', 'do', 'nothing', 'once', \"I'm\", 'finished', 'it', \"'s\", 'over', 'okay', 'let', \"'s\", 'stop', 'here', 'anyone', 'have', 'any', 'thoughts', 'I', 'thought', 'it', 'went', 'great', 'I', 'have', 'written', 'down', 'a', 'few', 'questions', 'one', 'have', 'you', 'ever', 'killed', 'a', 'woman', 'how', 'many', 'women', 'have', 'you', 'killed', 'please', 'tell', 'will', 'you', 'not', 'kill', 'me', 'okay', 'when', 'you', \"'re\", 'selling', 'to', 'women', 'it', 'is', 'crucial', 'that', 'you', 'listen', 'Dwight', 'also', 'you', 'want', 'to', 'respect', 'their', 'are', 'you', 'listening', 'now', 'yes', 'okay', 'well', 'you', 'have', 'to', 'show', 'us', 'that', \"'s\", 'impossible', 'listening', 'happens', 'in', 'the', 'ear', 'and', 'in', 'the', 'brain', 'I', 'mean', 'some', 'organisms', 'have', 'external', 'hairs', 'that', 'vibrates', 'to', 'indicate', 'auditory', 'stimulation', 'but', 'unfortunately', 'our', 'external', 'hairs', 'do', \"n't\", 'vibrate', 'at', 'all', 'uh-huh', 'uh-huh', 'what', 'are', 'you', 'doing', 'a', 'little', 'smile', 'and', 'a', 'nod', 'shows', 'that', 'I', 'hear', 'you', 'got', 'it', 'kind', 'of', 'Nellie', 'why', 'do', \"n't\", 'you', 'tell', 'Dwight', 'what', 'we', 'were', 'doing', 'earlier', 'today', 'and', 'Dwight', 'you', 'show', 'us', 'that', \"you're\", 'listening', 'well', 'we', 'were', 'in', 'the', 'warehouse', 'where', 'we', 'were', 'discussing', 'the', 'mural', 'that', 'I', \"'ve\", 'commissioned', 'Pam', 'to', 'paint', 'there', 'we', 'were', 'talking', 'about', 'the', 'color', 'schemes', 'and', 'the', 'major', 'themes', 'we', 'want', 'to', 'hit', 'children', 'of', 'the', 'world', 'coming', 'together', 'sing', 'down', 'trees', 'to', 'make', 'paper', 'but', 'not', 'in', 'a', 'child', 'library', 'way', 'it', \"'s\", 'just', 'up', 'and', 'down', 'just', 'a', 'regular', 'not', 'like', 'a', 'person', 'right', 'I', \"'m\", 'a', 'person', 'yes', 'you', \"'re\", 'a', 'person', 'yeah', 'we', 'can', 'do', 'this', 'all', 'right', 'and', 'then', 'we', 'thought', 'we', 'I', 'ca', \"n't\", 'I', 'just', 'got', 'a', 'ca', \"n't\", 'carry', 'on', 'with', 'that', 'face', 'look', 'I', \"'m\", 'gon', 'na', 'get', 'nightmares', 'with', 'that', 'face', 'I', 'mean', 'he', 'looks', 'like', 'he', 'is', 'laboring', 'over', 'a', 'stool', 'having', 'just', 'eaten', 'human', 'flesh', 'it', \"'s\", 'a', 'bit', 'extreme', 'yeah', 'I', \"'m\", 'so', 'I', \"'m\", 'sorry', 'but', 'that', 'is', 'truth', 'he', \"'s\", 'screw', 'at', 'the', 'meetings', 'in', 'less', 'than', 'an', 'hour', 'all', 'right', 'God', 'Dwight', 'just', 'ignore', 'every', 'instinct', 'you', 'have', 'it', \"'s\", 'all', 'garbage', 'okay', 'you', \"'re\", 'the', 'woman', 'I', \"'m\", 'the', 'salesman', 'watch', 'what', 'I', 'do', 'and', 'try', 'to', 'learn', 'okay', 'I', \"'m\", 'a', 'woman', 'good', 'mm-hmm', 'miss', 'Thomas', 'so', 'good', 'to', 'see', 'you', 'hello', 'or', 'are', 'those', 'your', 'kids', 'are', 'so', 'cute', 'they', 'could', 'be', 'models', 'thank', 'you', \"I'm\", 'so', 'proud', 'of', 'them', 'I', 'carried', 'each', 'one', 'of', 'them', 'for', 'nine', 'months', 'inside', 'of', 'my', 'torso', 'and', 'then', 'push', 'them', 'out', 'of', 'my', 'vagina', 'boo', 'weird', 'okay', 'this', 'is', 'a', 'lost', 'cause', \"he's\", 'hopeless', 'ten', 'years', 'ago', 'I', 'did', \"n't\", 'care', 'if', 'Dwight', 'got', 'married', 'or', 'died', 'a', 'beet', 'farming', 'bachelor', 'but', 'having', 'kids', 'makes', 'you', 'so', 'soft']\n"
     ]
    }
   ],
   "source": [
    "from nltk.tokenize import word_tokenize\n",
    "tokenized_word=word_tokenize(text)\n",
    "print(tokenized_word)"
   ]
  },
  {
   "cell_type": "code",
   "execution_count": 30,
   "metadata": {},
   "outputs": [
    {
     "name": "stdout",
     "output_type": "stream",
     "text": [
      "{'there', 'only', 'him', 'while', 'was', 'his', 'own', 'why', 'during', 'more', 'weren', 'that', 'but', 'they', 'no', 'same', 'won', 'against', 'an', 'being', 'then', 'so', 'nor', 'wasn', 'll', 'don', \"don't\", 'i', 'about', 'ain', 'them', \"wouldn't\", 'can', 'been', 'up', 'their', 'ours', 'doesn', 'm', 'than', 'mustn', 'and', \"didn't\", 'just', 'where', 'those', 'hasn', 'couldn', 'a', 'as', \"shouldn't\", \"hasn't\", 'who', \"wasn't\", 'himself', 'hers', 'needn', \"you're\", \"isn't\", 'with', 'below', 'both', 'under', 'you', 'be', 'whom', 'has', 'are', 'if', 'through', 'had', \"you've\", 'in', 't', \"you'll\", 'above', 'o', 've', 'aren', 'how', 'themselves', 'for', 'our', \"won't\", 'y', 'wouldn', 'down', 'too', 'hadn', 'is', 'the', \"weren't\", \"haven't\", 'most', 'of', 'such', \"couldn't\", 'on', 'once', 'again', 'yours', \"mightn't\", 'does', \"aren't\", 'to', 'd', \"it's\", 'have', 'after', 'haven', 'ourselves', 'other', 'shouldn', 'into', 'each', 'all', 'were', 'not', 'any', \"that'll\", 'it', 'your', 'now', 'isn', 'theirs', 'she', 'what', 'do', 'her', 'when', 'yourselves', 'we', 'doing', 'didn', 'very', 'am', \"should've\", \"shan't\", 'by', 'out', 'he', 'did', 'here', \"you'd\", 'or', \"needn't\", 'shan', 'further', 'my', \"hadn't\", 'mightn', 'should', 'its', 'because', 'herself', 'from', 'yourself', 'me', \"she's\", 'over', 're', 'between', 'at', 'this', 'ma', 'before', 'itself', 'few', 'having', 'which', \"doesn't\", 'until', 'myself', 'these', 'off', 'will', \"mustn't\", 'some', 's'}\n"
     ]
    },
    {
     "name": "stderr",
     "output_type": "stream",
     "text": [
      "[nltk_data] Downloading package stopwords to /Users/madhu/nltk_data...\n",
      "[nltk_data]   Package stopwords is already up-to-date!\n"
     ]
    }
   ],
   "source": [
    "import nltk\n",
    "nltk.download('stopwords')\n",
    "stop_words=set(stopwords.words(\"english\"))\n",
    "print(stop_words)"
   ]
  },
  {
   "cell_type": "code",
   "execution_count": 18,
   "metadata": {},
   "outputs": [
    {
     "name": "stdout",
     "output_type": "stream",
     "text": [
      "<FreqDist with 280 samples and 602 outcomes>\n"
     ]
    }
   ],
   "source": [
    "from nltk.probability import FreqDist\n",
    "fdist = FreqDist(tokenized_word)\n",
    "print(fdist)"
   ]
  },
  {
   "cell_type": "code",
   "execution_count": 32,
   "metadata": {},
   "outputs": [
    {
     "data": {
      "text/plain": [
       "[('you', 26),\n",
       " ('I', 26),\n",
       " ('a', 19),\n",
       " ('to', 17),\n",
       " ('and', 12),\n",
       " ('the', 12),\n",
       " ('that', 10),\n",
       " ('okay', 8),\n",
       " (\"'s\", 8),\n",
       " (\"'m\", 8),\n",
       " ('have', 8),\n",
       " ('we', 8),\n",
       " ('just', 7),\n",
       " ('is', 7),\n",
       " ('it', 7),\n",
       " ('so', 6),\n",
       " (\"n't\", 6),\n",
       " ('in', 6),\n",
       " ('of', 6),\n",
       " ('this', 5),\n",
       " ('her', 5),\n",
       " ('are', 5),\n",
       " ('do', 5),\n",
       " ('Dwight', 5),\n",
       " ('got', 4),\n",
       " ('hello', 4),\n",
       " ('he', 4),\n",
       " ('right', 4),\n",
       " ('down', 4),\n",
       " ('what', 4),\n",
       " ('them', 4),\n",
       " ('but', 4),\n",
       " ('all', 4),\n",
       " ('were', 4),\n",
       " ('show', 3),\n",
       " ('us', 3),\n",
       " ('how', 3),\n",
       " ('with', 3),\n",
       " ('please', 3),\n",
       " ('boss', 3),\n",
       " ('no', 3),\n",
       " ('she', 3),\n",
       " (\"I'm\", 3),\n",
       " ('for', 3),\n",
       " ('one', 3),\n",
       " ('be', 3),\n",
       " ('want', 3),\n",
       " ('like', 3),\n",
       " ('tell', 3),\n",
       " ('then', 3),\n",
       " ('woman', 3),\n",
       " ('not', 3),\n",
       " (\"'re\", 3),\n",
       " ('listening', 3),\n",
       " ('person', 3),\n",
       " (\"'d\", 2),\n",
       " ('sell', 2),\n",
       " ('time', 2),\n",
       " ('learn', 2),\n",
       " ('few', 2),\n",
       " ('Schrute', 2),\n",
       " (\"'ve\", 2),\n",
       " ('your', 2),\n",
       " ('mr.', 2),\n",
       " ('can', 2),\n",
       " ('me', 2),\n",
       " ('would', 2),\n",
       " ('ever', 2),\n",
       " ('see', 2),\n",
       " ('meetings', 2),\n",
       " ('discussing', 2),\n",
       " ('needs', 2),\n",
       " ('will', 2),\n",
       " ('gon', 2),\n",
       " ('na', 2),\n",
       " ('out', 2),\n",
       " ('if', 2),\n",
       " ('over', 2),\n",
       " ('thought', 2),\n",
       " ('killed', 2),\n",
       " ('women', 2),\n",
       " ('yes', 2),\n",
       " ('well', 2),\n",
       " ('mean', 2),\n",
       " ('external', 2),\n",
       " ('hairs', 2),\n",
       " ('at', 2),\n",
       " ('uh-huh', 2),\n",
       " ('doing', 2),\n",
       " ('yeah', 2),\n",
       " ('ca', 2),\n",
       " ('face', 2),\n",
       " ('having', 2),\n",
       " ('good', 2),\n",
       " ('or', 2),\n",
       " ('kids', 2),\n",
       " ('my', 2),\n",
       " ('normally', 1),\n",
       " ('female', 1),\n",
       " ('client', 1)]"
      ]
     },
     "execution_count": 32,
     "metadata": {},
     "output_type": "execute_result"
    }
   ],
   "source": [
    "fdist.most_common(100)"
   ]
  },
  {
   "cell_type": "code",
   "execution_count": 54,
   "metadata": {},
   "outputs": [
    {
     "data": {
      "image/png": "[encoded data removed]",
      "text/plain": [
       "<Figure size 432x288 with 1 Axes>"
      ]
     },
     "metadata": {
      "needs_background": "light"
     },
     "output_type": "display_data"
    }
   ],
   "source": [
    "# Frequency Distribution Plot\n",
    "import matplotlib.pyplot as plt\n",
    "fdist.plot(30,cumulative=False)\n",
    "plt.show()"
   ]
  },
  {
   "cell_type": "code",
   "execution_count": 28,
   "metadata": {},
   "outputs": [
    {
     "name": "stdout",
     "output_type": "stream",
     "text": [
      "{'there', 'only', 'him', 'while', 'was', 'his', 'own', 'why', 'during', 'more', 'weren', 'that', 'but', 'they', 'no', 'same', 'won', 'against', 'an', 'being', 'then', 'so', 'nor', 'wasn', 'll', 'don', \"don't\", 'i', 'about', 'ain', 'them', \"wouldn't\", 'can', 'been', 'up', 'their', 'ours', 'doesn', 'm', 'than', 'mustn', 'and', \"didn't\", 'just', 'where', 'those', 'hasn', 'couldn', 'a', 'as', \"shouldn't\", \"hasn't\", 'who', \"wasn't\", 'himself', 'hers', 'needn', \"you're\", \"isn't\", 'with', 'below', 'both', 'under', 'you', 'be', 'whom', 'has', 'are', 'if', 'through', 'had', \"you've\", 'in', 't', \"you'll\", 'above', 'o', 've', 'aren', 'how', 'themselves', 'for', 'our', \"won't\", 'y', 'wouldn', 'down', 'too', 'hadn', 'is', 'the', \"weren't\", \"haven't\", 'most', 'of', 'such', \"couldn't\", 'on', 'once', 'again', 'yours', \"mightn't\", 'does', \"aren't\", 'to', 'd', \"it's\", 'have', 'after', 'haven', 'ourselves', 'other', 'shouldn', 'into', 'each', 'all', 'were', 'not', 'any', \"that'll\", 'it', 'your', 'now', 'isn', 'theirs', 'she', 'what', 'do', 'her', 'when', 'yourselves', 'we', 'doing', 'didn', 'very', 'am', \"should've\", \"shan't\", 'by', 'out', 'he', 'did', 'here', \"you'd\", 'or', \"needn't\", 'shan', 'further', 'my', \"hadn't\", 'mightn', 'should', 'its', 'because', 'herself', 'from', 'yourself', 'me', \"she's\", 'over', 're', 'between', 'at', 'this', 'ma', 'before', 'itself', 'few', 'having', 'which', \"doesn't\", 'until', 'myself', 'these', 'off', 'will', \"mustn't\", 'some', 's'}\n"
     ]
    },
    {
     "name": "stderr",
     "output_type": "stream",
     "text": [
      "[nltk_data] Downloading package stopwords to /Users/madhu/nltk_data...\n",
      "[nltk_data]   Package stopwords is already up-to-date!\n"
     ]
    }
   ],
   "source": [
    "import nltk\n",
    "nltk.download('stopwords')\n",
    "stop_words=set(stopwords.words(\"english\"))\n",
    "print(stop_words)"
   ]
  },
  {
   "cell_type": "code",
   "execution_count": 40,
   "metadata": {},
   "outputs": [],
   "source": [
    "from profanity_check import predict, predict_prob"
   ]
  },
  {
   "cell_type": "code",
   "execution_count": 41,
   "metadata": {},
   "outputs": [
    {
     "data": {
      "text/plain": [
       "array([0.85044391])"
      ]
     },
     "execution_count": 41,
     "metadata": {},
     "output_type": "execute_result"
    }
   ],
   "source": [
    "predict_prob(['fuck'])"
   ]
  },
  {
   "cell_type": "code",
   "execution_count": 42,
   "metadata": {},
   "outputs": [
    {
     "data": {
      "text/plain": [
       "array([0.33221132])"
      ]
     },
     "execution_count": 42,
     "metadata": {},
     "output_type": "execute_result"
    }
   ],
   "source": [
    "predict_prob(['vagina'])"
   ]
  },
  {
   "cell_type": "code",
   "execution_count": 46,
   "metadata": {},
   "outputs": [
    {
     "data": {
      "text/plain": [
       "array([0.12095604])"
      ]
     },
     "execution_count": 46,
     "metadata": {},
     "output_type": "execute_result"
    }
   ],
   "source": [
    "predict_prob(['boob'])"
   ]
  },
  {
   "cell_type": "code",
   "execution_count": 45,
   "metadata": {},
   "outputs": [
    {
     "data": {
      "text/plain": [
       "array([0.43774975])"
      ]
     },
     "execution_count": 45,
     "metadata": {},
     "output_type": "execute_result"
    }
   ],
   "source": [
    "predict_prob(['boobs'])"
   ]
  },
  {
   "cell_type": "code",
   "execution_count": 47,
   "metadata": {},
   "outputs": [
    {
     "data": {
      "text/plain": [
       "array([0.71969766])"
      ]
     },
     "execution_count": 47,
     "metadata": {},
     "output_type": "execute_result"
    }
   ],
   "source": [
    "predict_prob(['idiot'])"
   ]
  },
  {
   "cell_type": "code",
   "execution_count": 48,
   "metadata": {},
   "outputs": [
    {
     "data": {
      "text/plain": [
       "array([0.12512018])"
      ]
     },
     "execution_count": 48,
     "metadata": {},
     "output_type": "execute_result"
    }
   ],
   "source": [
    "predict_prob(['female'])"
   ]
  },
  {
   "cell_type": "code",
   "execution_count": 49,
   "metadata": {},
   "outputs": [
    {
     "data": {
      "text/plain": [
       "array([0.12095604])"
      ]
     },
     "execution_count": 49,
     "metadata": {},
     "output_type": "execute_result"
    }
   ],
   "source": [
    "predict_prob(['her'])"
   ]
  },
  {
   "cell_type": "code",
   "execution_count": 50,
   "metadata": {},
   "outputs": [
    {
     "data": {
      "text/plain": [
       "array([0.12095604])"
      ]
     },
     "execution_count": 50,
     "metadata": {},
     "output_type": "execute_result"
    }
   ],
   "source": [
    "predict_prob(['she'])"
   ]
  },
  {
   "cell_type": "code",
   "execution_count": null,
   "metadata": {},
   "outputs": [],
   "source": []
  }
 ],
 "metadata": {
  "kernelspec": {
   "display_name": "Python 3",
   "language": "python",
   "name": "python3"
  },
  "language_info": {
   "codemirror_mode": {
    "name": "ipython",
    "version": 3
   },
   "file_extension": ".py",
   "mimetype": "text/x-python",
   "name": "python",
   "nbconvert_exporter": "python",
   "pygments_lexer": "ipython3",
   "version": "3.7.6"
  }
 },
 "nbformat": 4,
 "nbformat_minor": 4
}
